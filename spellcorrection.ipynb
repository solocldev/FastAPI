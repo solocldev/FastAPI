{
 "cells": [
  {
   "cell_type": "markdown",
   "id": "22ef27b1",
   "metadata": {},
   "source": [
    "## Create buckets based on phonetic length"
   ]
  },
  {
   "cell_type": "code",
   "execution_count": null,
   "id": "34d99129",
   "metadata": {},
   "outputs": [],
   "source": [
    "import phonetics\n",
    "\n",
    "file1 = open(r'C:\\Users\\tanma\\Downloads\\Phonetic score + Actual score script\\100k.txt', 'r')\n",
    "Lines = file1.readlines()\n",
    "\n",
    "# get mappings\n",
    "# with open('code_buckets.txt', 'w') as buckets_file:\n",
    "#     bucket_number = 1\n",
    "#     for bucket in code_buckets:\n",
    "#         buckets_file.write(f'bucket {bucket_number} :[\\n')\n",
    "#         for entry in bucket:\n",
    "#             buckets_file.write(json.dumps(entry))\n",
    "#             buckets_file.write('\\n')\n",
    "#         buckets_file.write(']\\n')\n",
    "#         bucket_number += 1\n",
    "\n",
    "code_buckets = [[] for _ in range(10)]\n",
    "len_buckets = [[] for _ in range(10)]\n",
    "\n",
    "for line in Lines:\n",
    "    word = line.split(\"\\t\")[0].lower()\n",
    "    code = phonetics.soundex(word)\n",
    "    if len(code) < 10:\n",
    "        code_buckets[len(code) - 1].append({\n",
    "            \"word\": word,\n",
    "            \"code\": code\n",
    "        })\n",
    "    else:\n",
    "        code_buckets[9].append({\n",
    "            \"word\": word,\n",
    "            \"code\": code\n",
    "        })\n",
    "    if len(word) < 10:\n",
    "        len_buckets[len(word) - 1].append({\n",
    "            \"word\": word,\n",
    "            \"code\": code\n",
    "        })\n",
    "    else:\n",
    "        code_buckets[9].append({\n",
    "            \"word\": word,\n",
    "            \"code\": code\n",
    "        })"
   ]
  },
  {
   "cell_type": "markdown",
   "id": "51df93ce",
   "metadata": {},
   "source": [
    "## Calculate Levenshtein edit-distance"
   ]
  },
  {
   "cell_type": "code",
   "execution_count": 1,
   "id": "24197b07",
   "metadata": {},
   "outputs": [],
   "source": [
    "import numpy as np\n",
    "\n",
    "\n",
    "def levenshtein(seq1, seq2):\n",
    "    size_x = len(seq1) + 1\n",
    "    size_y = len(seq2) + 1\n",
    "    matrix = np.zeros((size_x, size_y))\n",
    "    for x in range(size_x):\n",
    "        matrix[x, 0] = x\n",
    "    for y in range(size_y):\n",
    "        matrix[0, y] = y\n",
    "\n",
    "    for x in range(1, size_x):\n",
    "        for y in range(1, size_y):\n",
    "            if seq1[x - 1] == seq2[y - 1]:\n",
    "                matrix[x, y] = min(\n",
    "                    matrix[x - 1, y] + 1,\n",
    "                    matrix[x - 1, y - 1],\n",
    "                    matrix[x, y - 1] + 1\n",
    "                )\n",
    "            else:\n",
    "                matrix[x, y] = min(\n",
    "                    matrix[x - 1, y] + 1,\n",
    "                    matrix[x - 1, y - 1] + 1,\n",
    "                    matrix[x, y - 1] + 1\n",
    "                )\n",
    "    return (matrix[size_x - 1, size_y - 1])"
   ]
  },
  {
   "cell_type": "markdown",
   "id": "798ea684",
   "metadata": {},
   "source": [
    "## Generate Phonetic and Edit-distance spelling candidates"
   ]
  },
  {
   "cell_type": "code",
   "execution_count": 2,
   "id": "7b6dd6f2",
   "metadata": {},
   "outputs": [],
   "source": [
    "def get_phonetic_candidates(query):\n",
    "    relevant_buckets = [code_buckets[len(query) - 2], code_buckets[len(query) - 1], code_buckets[len(query)]]\n",
    "    candidates = []\n",
    "    for bucket in relevant_buckets:\n",
    "        for candidate in bucket:\n",
    "            query_code = phonetics.soundex(query)\n",
    "            phonetic_distance = levenshtein(candidate['code'], query_code)\n",
    "            if 1 >= phonetic_distance:\n",
    "                edit_distance = levenshtein(candidate['word'], query)\n",
    "                new_candidate = {\n",
    "                    'word': candidate['word'],\n",
    "                    'code': candidate['code'],\n",
    "                    'phonetic_distance': phonetic_distance,\n",
    "                    'edit_distance': edit_distance\n",
    "                }\n",
    "                candidates.append(new_candidate)\n",
    "    return candidates\n",
    "\n",
    "\n",
    "def get_edit_candidates(query):\n",
    "    relevant_buckets = [len_buckets[len(query) - 2], len_buckets[len(query) - 1], len_buckets[len(query)]]\n",
    "    candidates = []\n",
    "    for bucket in relevant_buckets:\n",
    "        for candidate in bucket:\n",
    "            query_code = phonetics.soundex(query)\n",
    "            edit_distance = levenshtein(candidate['word'], query)\n",
    "            if 2 >= edit_distance:\n",
    "                phonetic_distance = levenshtein(candidate['code'], query_code)\n",
    "                new_candidate = {\n",
    "                    'word': candidate['word'],\n",
    "                    'code': candidate['code'],\n",
    "                    'phonetic_distance': phonetic_distance,\n",
    "                    'edit_distance': edit_distance\n",
    "                }\n",
    "                candidates.append(new_candidate)\n",
    "    return candidates"
   ]
  },
  {
   "cell_type": "code",
   "execution_count": null,
   "id": "228b2a6a",
   "metadata": {},
   "outputs": [],
   "source": [
    "query = 'stroberi'\n",
    "\n",
    "#for non-phonetic errors, we can potentiallu just use an existing inbuilt python library\n",
    "\n",
    "print(get_phonetic_candidates(query), get_edit_candidates(query))"
   ]
  }
 ],
 "metadata": {
  "kernelspec": {
   "display_name": "Python 3.8.10 64-bit",
   "language": "python",
   "name": "python3"
  },
  "language_info": {
   "codemirror_mode": {
    "name": "ipython",
    "version": 3
   },
   "file_extension": ".py",
   "mimetype": "text/x-python",
   "name": "python",
   "nbconvert_exporter": "python",
   "pygments_lexer": "ipython3",
   "version": "3.8.10"
  },
  "vscode": {
   "interpreter": {
    "hash": "916dbcbb3f70747c44a77c7bcd40155683ae19c65e1c03b4aa3499c5328201f1"
   }
  }
 },
 "nbformat": 4,
 "nbformat_minor": 5
}
